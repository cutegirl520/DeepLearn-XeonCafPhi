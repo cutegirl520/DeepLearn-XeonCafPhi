{
 "metadata": {
  "description": "Use the pre-trained ImageNet model to classify images with the Python interface.",
  "example_name": "ImageNet classification",
  "include_in_docs": true,
  "priority": 1,
  "signature": "sha256:a2b12abaa1eb252f436d59833c08ab97948c8a7a0513197f31afad0a0690e318"
 },
 "nbformat": 3,
 "nbformat_minor": 0,
 "worksheets": [
  {
   "cells": [
    {
     "cell_type": "markdown",
     "metadata": {},
     "source": [
      "Classifying ImageNet: the instant Caffe way\n",
      "===========================================\n",
      "\n",
      "Caffe has a Python interface, pycaffe, with a `caffe.Net` interface for models. There are both Python and MATLAB interfaces. While this example uses the off-the-shelf Python `caffe.Classifier` interface there is also a MATLAB example at `matlab/caffe/matcaffe_demo.m`.\n",
      "\n",
      "Before we begin, you must compile Caffe. You should add the Caffe module to your `PYTHONPATH` although this example includes it automatically. If you haven't yet done so, please refer to the [installation instructions](http://caffe.berkeleyvision.org/installation.html). This example uses our pre-trained CaffeNet model, an ILSVRC12 image classifier. You can download it by running `./scripts/download_model_binary.py models/bvlc_reference_caffenet` or let the first step of this example download it for you.\n",
      "\n",
      "Ready? Let's start."
     ]
    },
    {
     "cell_type": "code",
     "collapsed": false,
     "input": [
      "import numpy as np\n",
      "import matplotlib.pyplot as plt\n",
      "%matplotlib inline\n",
      "\n",
      "# Make sure that caffe is on the python path:\n",
      "caffe_root = '../'  # this file is expected to be in {caffe_root}/examples\n",
      "import sys\n",
      "sys.path.insert(0, caffe_root + 'python')\n",
      "\n",
      "import caffe\n",
      "\n",
      "# Set the right path to your model definition file, pretrained model weights,\n",
      "# and the image you would like to classify.\n",
      "MODEL_FILE = '../models/bvlc_reference_caffenet/deploy.prototxt'\n",
      "PRETRAINED = '../models/bvlc_reference_caffenet/bvlc_reference_caffenet.caffemodel'\n",
      "IMAGE_FILE = 'images/cat.jpg'\n",
      "\n",
      "import os\n",
      "if not os.path.isfile(PRETRAINED):\n",
      "    print(\"Downloading pre-trained CaffeNet model...\")\n",
      "    !../scripts/download_model_binary.py ../models/bvlc_reference_caffenet"
     ],
     "language": "python",
     "metadata": {},
     "outputs": [],
     "prompt_number": 1
    },
    {
     "cell_type": "markdown",
     "metadata": {},
     "source": [
      "Loading a network is easy. `caffe.Classifier` takes care of everything. Note the arguments for configuring input preprocessing: mean subtraction switched on by giving a mean array, input channel swapping takes care of mapping RGB into the reference ImageNet model's BGR order, and raw scaling multiplies the feature scale from the input [0,1] to the ImageNet model's [0,255].\n",
      "\n",
      "We will set the phase to test since we are doing testing, and will first use CPU for the computation."
     ]
    },
    {
     "cell_type": "code",
     "collapsed": false,
     "input": [
      "caffe.set_mode_cpu()\n",
      "net = caffe.Classifier(MODEL_FILE, PRETRAINED,\n",
      "                       mean=np.load(caffe_root + 'python/caffe/imagenet/ilsvrc_2012_mean.npy').mean(1).mean(1),\n",
      "                       channel_swap=(2,1,0),\n",
      "                       raw_scale=255,\n",
      "                       image_dims=(256, 256))"
     ],
     "language": "python",
     "metadata": {},
     "outputs": [],
     "prompt_number": 2
    },
    {
     "cell_type": "markdown",
     "metadata": {},
     "source": [
      "Let's take a look at our example image with Caffe's image loading helper."
     ]
    },
    {
     "cell_type": "code",
     "collapsed": false,
     "input": [
      "input_image = caffe.io.load_image(IMAGE_FILE)\n",
      "plt.imshow(input_image)"
     ],
     "language": "python",
     "metadata": {},
     "outputs": [
      {
       "metadata": {},
       "output_type": "pyout",
       "prompt_number": 3,
       "text": [
        "<matplotlib.image.AxesImage at 0x7fda204c0e10>"
       ]
      },
      {
       "metadata": {},
       "output_type": "display_data",
       "png": "iVBORw0KGgoAAAANSUhEUgAAAU0AAAEACAYAAAA3NiR2AAAABHNCSVQICAgIfAhkiAAAAAlwSFlz\nAAALEgAACxIB0t1+/AAAIABJREFUeJzsvU2sbVt23/UbY8y51t77nHPvfa9euSpVZXAqrthWYgWS\n2MIdPpJITkkE6EAiBAIpoLQQSPRoICEhpEjQwh1EI42AIiQ6ER8xKFG+MEEmUqQkhpjICqRcrirX\nq/fuxzln77XmnGPQGHOfVyahiKWKXiGd0XjvnXfP3WvvteYc8z/+//8YWyIieI7neI7neI5/oNBP\n+w08x3M8x3P8/ymek+ZzPMdzPMdvIp6T5nM8x3M8x28inpPmczzHczzHbyKek+ZzPMdzPMdvIp6T\n5nM8x3M8x28i/qEkzZ//+Z/nx3/8x/nKV77CH//jf/wfxiWe4zme4zk+lZDvt09zjMGP/diP8Wf/\n7J/li1/8Ij/1Uz/Fn/pTf4qf+Imf+H5e5jme4zme41OJ7zvS/MVf/EV+9Ed/lB/5kR+h1sof+SN/\nhD/9p//09/syz/Ecz/Ecn0p835Pm17/+dX74h3/46ecvfelLfP3rX/9+X+Y5nuM5nuNTie970hSR\n7/dLPsdzPMdz/MBE+X6/4Be/+EW+9rWvPf38ta99jS996Uu/4XfssOLb/v2+9HM8x3M8x/clTu8t\nPHy0/X3/7PsuBPXe+bEf+zH+3J/7c3zhC1/gp3/6p/8eIUhE+MLP/ONogBMQgpoSxPxzQwxCBS1C\nGIQ5boqqgIEqRAgCOOT/l/xZAAkQH9AHo+0wBoKjEeCO4hiOCSCDESAKioMHEfluxANEiBCut0o1\nP4OaICK4O+4OBGMEvQWjO/u+M4aDBBE7D99s3Hx+IQLMDJGCiFKKYgalGrUWaq3UWliW/LdZYVkW\n1lqxYpgoRNB753x+5P7xzP3DmfO5sW2NCKdY3juxQEwQBaoSDNQCUUFVKMXyZ1HcAx/OaM62OyEt\n72s+WSIEsLw37nlPXBEpqAaHo1GrUExgBG0TpAu/9r+94zNffkFvsG8bbQ9GF9zzulag1GA9GKUK\nughlKQigNvAwRjfCFVwYwxEq+Tg6IoFgCPDdyzkiGCGz+gnwQFXBBBS0Cq5B+EBFcAF3J3zQ+4Ch\nMPJ9ehdKAK6UItjRuHlx4ObFLafblfUgHA4r67Gw3hxZ7w78tf/ub/H7/rWfoS6VshaC4LJvnM8X\nHh8eePP6De/evOXDb3/E/duNvsH2sLHdN3wXGDafc+DdkS4QBn1ABMbAVEACUcUUzGLeTwUCMcdC\nIRQRwyNwhNYdpOAilINQD4VyUtablfUYHG9WSg1KBYmChDLGYLt02uZcHgbbBdpl0M/BuAwujwPf\nBx997SNuPrjFzPK+K0AQ4lACnXtHRaiHhcN7Ky8+eMXp1YEXN8d83yJEOGM4rQeP7x75+Ftvefxo\nJ9xRA7VPXlfNUIQhc7+6IDFYF2E55L4q2hACFUULqDoigxiWa9KdEMOXxl/5E1/j/y01ft+RZimF\nn/u5n+Nnf/ZnGWPwR//oH/37KudaKt4GwUx4QSY9EUQgYgBKhOYfISjg4ij6lDAhkyQB4YA4IYNC\nYDIoq6Gl0M6dPjoxBqaGEIgDEngIoiMToMyNN19cPCDi6VqOgxiiMh9sbkQRYYyBqmNlJqFY88H7\neb5LBTLxixQEg4DegkAYOhgREIqHEATJdijeYATECLD81L1Bb4K74iPoe6P3garOBBeZwAx0MVAw\nNUZ0tBgqmUyviT9cGCMYw1ENIhaIMW9uefqMIiCihBeg43FmXY6UQ6euhaJC352qxngIIqDtjbY7\nowV9z/cWHojl9a0qYoGZYqpcj79wZXRyHYRAKCqF4aASoDXzofd8FiL5+d0RhGqCXDev5AFiZgzp\nSJnPORyrSo+BAqM5NgZhSmwDcbDN6VtBeyYONuH87pHLw8bjyxM3dwsv34fTqyM3r46cXrxgOazc\nfeYOWYJiFY9At9ywIY2tVS7bwuHuiKixbTuH20I7DN69vbA/7EQTdBRkKB4DjQEGJkZ4ZNJUEAlq\nhZDAaq5PJZ+viYFn0lQPRh9zXTaKFRZdnmg1M6MWkLl+Egx0TBfCBVsKSHA5D1rv9A7hQu8dhuT6\nJBAJIgaiiqjgRB7immtHRZBFKTcrL95/xfvvv+LmbqUcSv69ubdaayxR8b1TF2W5FaIHixo+X8s1\nmG/3KaG5Zx5pM/nijqAYg6aDKoao4gwwwU55b0SMKN87LX7fkybAV7/6Vb761a9+718SwSzRjTig\n88ORH1b0mkfzhoRoogTN7B+Rp+v1NMhkm6drELnxuhMMajFuXt4xfGc7X2iXnidRglMsBI+ep5Ab\nEfkqgyAkF18mi0zd4ZEIGZ/XnclTlMiMT4RTl4HQaT1w/2RRMpOh4KgKnussrxtBHw0UejcusbFW\nRWNHCWQoQ5OK7n3QwxnuQKKLNhpqsB4OlCrUGmg13AAdDAYmhooiJjh5yKhmUlYV3EBHPoThAeIQ\nMp9ZJm7H5mETnI4Lx9tgOQliA4ZgKD2AYkQIexvsO4wdeELsibK1QOj13uQBOno8rY8IRdUYYyRq\nFzIhIBPx8rQGAuhjAFBrQUxAwEVAE9HnQQdhWeGYDELnAYNTVmMfMHygVRg9oARWwS+wD0d6QRDe\nvr7w0BqXccROyp28gMUopwJFqIeKLIbMe9vGeDpwSzXWm8K6wyDwIvS9JRK6ObK/W7j/9oX9sYEb\noSNzP4rYwEIQCUxjomynmKICGk6ZC1wJ1PLPR0RWSOQzwjTXXR94KKN3iqy5RlBUHTzXd0QmaZeg\nLsZSYWyd3A0xEyLzH3OPQu4hlUR3ZghKVcOWwuF4YFmPrMuBZV04HAqiwnCn957PtIFVYb1Z8OHE\nKHmP5i4UCURyHbhnyaiRFUJ44EM4+0Y3yfuDEB2MzBmqFVOhVAFzQj+FpPkPEjL/qSKEOshEkzbL\nilBQcORpk43rQ4h4SlT539eNELhDFUUjN10RQ3VAbNSiLDcHeu1c9gt9T7geIWjovI7P12MmP74L\n8SWVEKGEg5RcKD7y/aACkYm6mBAmSIFoC4Ryeu+ClYKpJpKer5mnnoEFEuARiVolMXb4pBw8KKXg\nlkjZfUzkrBwOB9bjymHfGGOw1EpdjLKSi5CBqyIRhAxCZuIXQJU+OohhVsCDEUEbI8+oSITs7vQB\nogrSMAuWg/DifVhuNqJ21A+MJjiCNzi3TnlhbOcgXAkXEMe0oDYPLQtM9IkS8WAeool4BEMi37tP\nNOnfvZYmGhfJTaPFMBNKrQz6TBx5KAcBcj0AIaJDIWmLAmGB0ykO6gEDYh9ggZNVSvUFaUZcgojO\n6J1gpYnjAl0D1+BHfvcXaTJYrDKGE70zxsCH4zFo0enS0INj4Zg5UQUW0E3QWhi2EEB7O7CuFBNE\nBdOspBhBsSUPqxCqKhIdm9QRVzRPTBQyEqjoRHs2KYlwSih771wuykJgItgslSHmNszDxUywItTV\n6K1Ti9JbJv/lZpnPJaslwpEJKlSUoka1QlkKh+XEoRZKMZZlpZaClGBBGT5orbGzs5SFtRY4rbTm\nTFLuqfLJ9ZlUwPDcWx6DsIBYCFcaTphQXJGYn18NJ5O6VLBSErF9j/jUkmaCJUWAMXeAqE7EJYQp\nKoFcmc4IPCCuvBSfJE8RJcITytdKicAkKNIxDRYzwsFjQxzUnGUxii301pHJYfpwfMRTeafzupFv\n7lrJ4T4QUfoOVgIrExEJ4IqVitqgnhZKPSAiXLbB7atKayMXMgvugjtIZuanUl9nudx6cnKmgscZ\nP8KB/Jn5bNdSqVGAFQTMXib61kS7Ho7rQNhp44IF7JGJIyyImfSxPJ3H2PEqIAY9kZzoYIhjIZiC\nLiCl0hnU96DcDpbbSlaOBY/B/RBcKiMa5WahP+4QA7OSaJyGmKFFn0rJCcbxAI2sGFTyf4RMOK4L\n3R1RY4yGzsSgargPVAUrhmqiDzyTjE80ThTcFYsA2ajacauUUhi649GIIkgRNGCMPHw5G9zm87LN\n6UzKJoKbm5XbuyOn2yNDgt4b22XjR37yi2z3G23PZ3t+PON743x+zeVypp3PtP0NqjvLKowYSBWk\nO+NQGJcLCw3dhU2U9jigTbRkA3VBqkB0ihVkdJLjVbwHVibj75J8ogcWSROFg5NUjlaoy0KilGDz\nTq2SPKFYrgFJ8OAjiA4SShGlW8dLJxi5R0Q43i6zapqJ0z0Pvh1sAVkLulbKWlELukyeuRi2VpSB\nhFAtEbofhXLZWG+PSZ89XvDBpMUS6EQkZhkek26KWXlO7UNmbTIUrTrRaVI1VuJJpyil8P8l8nx6\nSDOSnwyUrJmumTORg07ElaejZtUmgWEwq0Wd5XnMcpgIRmt4EYp48jMiecqq42MiQXd8DHrvDB/I\nTMSlVsL8u04vwefrf/edlHK9LvhIvsZUQRwtgZWgHhZsFY63hWU1RKB35/FhsF0arXnylCMYzfGW\n5ZGoZVKVeXi40EYnAmrvdDUEo0jBiqUoYZqCilluAjVUoHvnYXtg6xfcdS4qMIzuSQG4CItpJnxA\nSX4UPDedAmoUMYLOUozD8UBI54P3P0Drh/jq1JPz8nDDh6/fsNgtnzt8jm88fHseBj756iyd1RSr\nmgjTcvFqkSREAiRsIlJwyYSeqEWvRWUeXJoHGddKw6CU5EbzYG2UsmR6UxLtzXXm4ZgX1Au+7/TW\noQRis8asjmqWky12OAyMCj2RsoTRVChm2K2yvLBEiQS9Oful8RgX1JTe79mac7lsbPdvGHGh7Rf2\n2MAiS1frHI6aCL13aAOTQBvUlwkdhnX0Uiie15FZhYnluhZNMfKarCTy8wwfyaGP/FvJD6eeMAZZ\nZS2V5WTIKqyrUEsKkeG59FMkhNGdvjnnh86+C5dLZ+zbU4KSKciGT6otrpz5YIggA9gbUTM5aVFq\ndbCgmlKXOvn+POiKQCFYa6GvC6MP6J6v1zt1sdzXwBgdCUF1lunzfYcPUJ8rBzx6ygJk0qxLUIpS\nS0U0GL+hjvl741NLmqhkCc5MjoCpPiGCiSvQma8yb11RZUzy//9Rpo/AcbokX+EST6XXVXggBmMm\nTG8d94GZTFRjHI4LrXX2vefvzIQaYYl5NUvXCEekEJHoIyIokjff1mA9GstN5XhbWVflcCyEwPkx\neHwYXB4b27nR2qBdBu3S8eZJ2GfxDfgk1mEWWIxwKolOTSzLmnV5EkAQmSxB5O8YmAh9zFIzoOMM\naUhIqoWqeYqFI8WoXRlTUNOqXJmLZTEOp5VYC7UYt3cLn7n9IqfjwtkeaKNxexi8uzQk7nPjemAB\nAyGELL/MU/CxLLVtHprpKsgDIAZoLYgGoYpDCjoB1wyvT/xxJl+1T1wUY3SsMJ0L8w5OukMlGHvD\nZdAt+V4phg6HklxIrAMxsGQEkTWy7GvC0MBiEFaxCuvLhVE9OWIf7K1j543LpeNjsD1sPD5cOD8+\n4P0xHQJl0HQDazS/oKvNAwJEByYriwh+R1IoRehqxMfg507VAhPtqkyaYUqm10rIiUTskyPOklQZ\nozM8mLUUVSpWFg43leW2cKgFLYHISKFkCnIqwj6cCKX3oO1B9Cy7e8S87m/c5nGlgOZz8p4Hl1Zj\nPa1YrZSS/H4EeB/YkodkH0kjKZ6ARBNlsxQuW0ct96EVoTfHPZ72dkSKUzE58YhI54kFBcdKckOi\nnWU5pEtFDWSko+Z7xKeWNEMy70fko3sCciL5mCTRT2j2s6MFF33iD6/8V4RTEcIMCc/Nt3dambwF\nQtVU8ojIE9P9k0SLECMtC5D8zuF4YD2m0HJ+uNB6x2NPK5RADAfRabfJBbt74ApWVpZDpRwGp6Nx\nWIPDTeFwLGgRDkflcNx5fCfcm7JdHBUnuCT/NhJ0p+UmiDYXm6Sdq5jh3hjREQolDhNt8CSSjRjJ\nXclALEux8EzAw53Gmc4l1cZY6VKolKRDYqS1q4BJSWuOOGbCertQqnBT065TS+czLz7L7/itv4Nf\ne/Mr/O1f+zt85Ys/zq/8nb/Nu965XByLI/Q2bWRB8eTqVPI9myWpn44FmRtZkGL4LPcEUCtoKH0S\nvCIQPbL8fqK9PxEgrg4CVU1kOhz3ndECuqNXLgDHqyM1cAt0CUQDOxuyBl47elBsGBKDMMdYGAyO\ny8COJ0oNTAcRjR6F8/meve2MJmwPG5f7C+3hkbZtuDll2bEykkKpG8MajLyeYSx2xEuj2IWVRJ9d\nhNIEzpLKdkvuVmJndJ83oGJy5btzPRZN5biPYPSOSSW0pmvJgsPBkIOiRTFRFikcyoIuSkiH6rTW\ncXZ8DA7HQpNOsVxnQbD3TGii0PqGT+FI5Fqp8aRUO8mHdmAbjRfiRBhmlRAYGoh3+tQXPAaDYIud\n7htCY8QOkVYzIoVH3NHh6LSMJcJ0Rneiz+pUAz0IshSIgmpJkDN51qvw+APLaRIjM2JMFRtJdKSz\n5LiKPpPXCkB6Ehd+tasAV718jIZ5CkCNkYmtgXnB5waN5jBh/ZWQDx/JWV3FHk21eC2Z6A6HyuPD\nhcdto/WRaFWZpWJakCTrAXxA2zqH20P65pbkbZbDwuFYWU4FD+V0e8SWM8FGyMZwp7qiZlkuiVJK\nydN5xKQRnH0MtHVEEyUMz2tLgaozuYgR6oSk/t9bo3suuK3vNG9PfrlSBGJDLeZSUMIiLV0T1Ys6\nIWDVsLUgFZoGv/23fIHPHo9svvGtb3+D3/87/0V+5oe/wf/6N/9n5L2v8L+//jq3qnzUO92CauAO\nLIGaohqppAqI9kSNCBKJADQEUZ3I9FoiOurTeoMwiMl761RPAw/PezDXz+ipsPY2GHtJKoYrR8p8\nYYgxcl3tqfKKAppcnmrSC0U0S7dDAzOqVqiOLIauyhiN7aK0PfJ+P3YuD432bmfsG9EHIhvlCOut\noSURFBJIbKgsyQwcrnROPtMuQg1lbEKcY4pIggxJRxiWSr8k7SA4Irk+xp5IawyHMAaKj05gLKcD\n68koZcU0RZUg6KNjPf2zWst0qCw0WtIYUliOh/SO0ogubOdt/p5M3t8JHJWCBnRvqFmaMKZvWNRp\nozPoNG/s7YxvO8uS1+y9MUba1EZL2iwrvClyxRQNfSTX6mndU7Mnx8eQQdHpwQ2f+UYoRVmXSin2\nG4QuUcVlfM/U9aklTZ8+Sy06b3Au4pjE+xgdsykKiKVyHkGPSJ/dGBRVfDgGFE0exSOQKIQ3ugSP\nrU34n9xGjA0fDfeOBti0OokUcvdMo7RBKcLhcOBwXFgvncvlwrY1tjZo29xtAAxUChLBtjXKo3B7\nd0fg1CWtDHZQyrJSy4HlvRPLek/Eh7QY7L1zu55YygGPTmudPhQfAx87Mgpsg74722hEG3SEWivs\ngdpASqVoIWzgPvAQLm3nvF84b488bI8Eg903rM4DySPft1hSIbO8l6sX6+oIsKQWTOGkynJQpHVe\n2ZHf+ZP/FLYrv/0zX+b27vfwMz/yz/A//MKf4f/4q/85v/fL/xi/8Ou/zDikx/Z83pCaIqBZmYRD\nJo5UhI+ZrIuiYmkKXyopWUQ+njYdBt+t6k4hr0CiVfEnQa2NgOFEGxhpObqKBOGChzMaRE90G8WJ\nqsk14pk4C1kKSmBK+iSrYBLImrfJbeDhyfH5YL9snB+ddx8/0t/uVDWWopgKVuMToUYLIwaVymp3\n3NzeUauAdc77zo7j0YmtYQeHm4J32NoguiEudM8N371T1Kag6ogpe480t4/OQPDRQQcNoUb6pcti\nT5zkvjfK/IziwEguOBs4sgkgXfRKWQveAquCbB18fJfGkBYyTZYcRxBT6lKwalAFl0GLneYLe2vQ\nglWNEQXV5OhNwLeWHGzkc5PJSUgk/yuRe3vEpOCuGoM5lQWmgFVMcJKes3JkXdd0gJRCqXVSAntW\npd8jPj31nBQ3+mB6IZlewdzQViRVVsnSSiVPKSQ3gSHQR24gdySSU4pwNAQkOzBa2+iXjnpj0Blt\nJ8Y+OTyoJflGjx2TgtkxN7QoIYWQfNAvbeF4WHh4PHMa0PadbQwue08rTfTUskK4PAweHxo3Lw4E\nwlLTnrHUA6flDimV918tiC+If4TxbnbnFIQjrScvs22d7dHYt473nRYP9J6kPlJQFfZ9ENbYtbB4\nohcXGF3Y28alP7KNgUewj45YLjoTQdWmT81SkY9MnIOs9lTBtFx1OKQrx9sT6+Lc3N5Rjq/4/PEL\nfPlLvxV/vfH2419lffmKP/jVf4vP/fBP8wt/6b/hW5/7NV6fjW++u2dZjjz0dygdvVIdIZSyMq7W\nhPnMy1I4nJLTBFAXvEs2yfhAwhJxTluLePpOccdJOmJIcqkEhCYnnXam7LRxRooCkV7S2CMN/qXh\nCmudZZr4bAzIikQjX98UlIJqZfSBx4bvjb4p9/cX+tvGeNtoPQUtWRUqtL1Te0lDvg9KPXJ7vOXl\ny/c5HVfqakg1tv4er998RPgD+znAHDejEVSpuAShIz3HbsndKwSOaFBMaZGiY0hhdJn7xXCH8/1G\nXQwrhePNTXKYnkKIaf5/d8cJXITQBSc7xmxeWwvEErBoHq4klWOWrzGAUbIjx4pS14Itii5CXZZs\nNAmdNEqW9b11zIy+t7S5tZ029nQXaHYAmRmjd9LZP3NHa6mID5u2oxRnrYBowT33vYizrpX1sLAe\njLUYIqlpmFZa1O+Zuz49pDnS7iAI4leTakHEP7EZceWnpol5yubCTJSTtzCYvkdBNZK8n5xIzD/r\nYzAi7RfZQTOSIbAAUhmtxZ6UV7OSnq0s5pLnEuF0szK60KpQx+CwFHrb2fZODMcjO0revL5nPQll\nMQ7HQT1m6SlWKFaxVbi9VfyzxuF4w2W7YJZl5RhpnyrbBafTxlXMgt4b3Tt7V5or9ECbU7egnAxq\ncl2+5+LufdA9aOFYKVMsSSKeef9TdU9RRlyTR1VFDFRScAg6g0HbGp9/8RnevXng85/5Erftlr/z\nS7/Cm49+jYfvfJtaFo6fu+N3/b5/ld/ze/8A/8if/I/4r//yn8Hlhnp3w6987R1aKsQnXklXxyXQ\nsEQja+F4c6QsyTWNMdDJ0UU40pUryv/u5gbvPqkLAEdCU+SB9H0yBcSrH4aJOOePfrU2hVKuwiHz\nz53Z3ZKcuE4TOdf1KmndGgO2fWc/N8Yl27hkFDw6wwItBfMs4WXN7qdiJ17cvM/7Lz7g9vaGuq5I\nFfZ9o8gB+A7b43eQ/cJ+DMbB6eekMwh7uo+1LBA7alBPK7oWLAxvg+0hGPeT8x7ZUCEhPJ4b9VhY\no3EoilSddIfOvXNt5Eihp/fB6Lk+YySFVCLFNa1KXQ3PooAgK0A1RRelLlnBWVXKalACqoMGfexI\nV0bIVO19rvdBa3vqCp5VRhvZpZX0tqAy1/LBaHujR7owxkTbeD5bs0o9rBxPaQNc6srxsLCWkteL\nQMIY3r5n7vr0OE3Ph2C1ZJeCpOBzTRzERA+S6qszH+LszNHZJ83Idjks0aeMTzbjCKaBNzc+I4ne\nLPcdGY73YHfH/AErN1gR1rqS3q+Yfr+rutd5ajfL5ne0DIoaRYXdoc9+8+0cfPThmVIry3rg9rii\nhxUoSBRKqdzeGuJGPR54eHxLaz1vjTuLK37vlMuGXXZUUwhKFAoUZ42A4ughWGrnMLLvO4ZlohXA\nFoSgKAglPWmmaEn0e3UH2DTWm2kqnJCoJUBQNAr76KjAD91+wKFXfvt7P8rf/ut/nXePH2EBN/XA\n/XZh+9XBn/+T/zE/+dP/NH/oX/73OL56j5/7E/8pt+v71GJ4AZGaz0b0iV+8dpUsa+F4WLBiBDui\n0JvinvdnjJ6IEUnVOAQRw0cne5wqk5BJ1VTTf4jMxJdaPN6nNcOnZW1azBhp9XIP1K/qe3aK4TyV\njunnzbkCY0AMy0NqG/jWaJeOdJk+YOjNqcXYtz1bCncwX3hx9xlenD7DzeE9bk93nG5usQIP50cI\nwQfsl8Gb/jHRO3V3ojvS0vWQXtqYB5ywHhdOdyf0JJhku+GlDdo7eHh9xs+JArUa9aRgnTF2RI55\niMXI9TNdCqIyu5gSPCCOidIh6RuFRQXqVRidcxtm5YJp0hkraJmwsOiT1xgJ3ButAT0PxmseiLiW\n2/lkR+9T4BngKfaN4Skmdke1JsiKhrhPNG+zg0hYl5V1rRwPh+zIWldWs3loOs4O7QfUcmSTe/D9\njJSSCpqSCASSlwzQ6vQQstcgRRIfYz44R0pQ/CougOosETQXvXkQYQwF1cYwS1IcoyNEG8TeOaO4\nXUAUK2dCVtaoRB34HG5BTP9ZJG84vCcnNmyqvoNSFkTS7LudG+8+3jidjlxewl0o+9mRNXtzl/WA\nvFzgcia0c748QIDIApGlt9pIm4g7Ixr7bA07VAVrVFtY187xFnQFLWPaKwpjgA9FRxq/hcAlBapa\nO1i2syVZmIdEH3NjWCAtu0v6CGo5cVLj4eEB2+F3fekn+ejr3+Dxow9ZxAg1ugifffUB948Xei/8\nrV/8Cyw37/Oz/+y/w9d+/SN+/n/6b1lfHBmSYkWIgQ6izxMeqFU4HoWyDrCsJtRn+2oYLn3mP8s2\nukhrTY+emzEUdT7pdgoluyolr4kQs0datUz/YCdIIm8EWHNkh2FO1Nm3Lx3X7E4yZuPA7JwKLwyX\n