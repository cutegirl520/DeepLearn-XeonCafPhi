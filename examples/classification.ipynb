{
 "metadata": {
  "description": "Use the pre-trained ImageNet model to classify images with the Python interface.",
  "example_name": "ImageNet classification",
  "include_in_docs": true,
  "priority": 1,
  "signature": "sha256:a2b12abaa1eb252f436d59833c08ab97948c8a7a0513197f31afad0a0690e318"
 },
 "nbformat": 3,
 "nbformat_minor": 0,
 "worksheets": [
  {
   "cells": [
    {
     "cell_type": "markdown",
     "metadata": {},
     "source